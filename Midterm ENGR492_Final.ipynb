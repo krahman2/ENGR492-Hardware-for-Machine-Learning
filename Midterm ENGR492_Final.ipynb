{
 "cells": [
  {
   "cell_type": "code",
   "execution_count": 1,
   "id": "cacc12b7",
   "metadata": {},
   "outputs": [],
   "source": [
    "# Import the numpy package under the alias np. \n",
    "# Numpy is a library for the Python programming language, adding support for large, \n",
    "# multi-dimensional arrays and matrices, along with a large collection of high-level \n",
    "# mathematical functions to operate on these arrays.\n",
    "import numpy as np\n",
    "\n",
    "# Import the pandas package under the alias pd.\n",
    "# Pandas is an open source data analysis and manipulation tool, \n",
    "# built on top of the Python programming language. It offers data structures and \n",
    "# operations for manipulating numerical tables and time series.\n",
    "import pandas as pd\n",
    "\n",
    "# Import the pyplot interface from the matplotlib library under the alias plt.\n",
    "# Matplotlib is a plotting library for the Python programming language and its \n",
    "# numerical mathematics extension NumPy. Pyplot is a collection of command style \n",
    "# functions that make matplotlib work like MATLAB.\n",
    "from matplotlib import pyplot as plt\n",
    "\n",
    "# Read a comma-separated values (csv) file into DataFrame. Here, the file path is given as a raw string (r-string).\n",
    "# The r-string notation (r'...') ensures that special characters, such as the backslash ('\\'), \n",
    "# are treated as literal characters and not as escape characters. This line reads the CSV file \n",
    "# containing the training data for the digit recognizer dataset into a pandas DataFrame.\n",
    "# This DataFrame is a 2-dimensional labeled data structure with columns that can be of different types.\n",
    "data = pd.read_csv(r'C:\\Users\\seaso\\Desktop\\Lab5_451\\digit-recognizer\\train.csv')\n"
   ]
  },
  {
   "cell_type": "code",
   "execution_count": 2,
   "id": "c69744e6",
   "metadata": {},
   "outputs": [],
   "source": [
    "# Convert the pandas DataFrame into a NumPy array. This is done because NumPy arrays\n",
    "# are generally faster and more efficient for numerical operations. They also support a greater variety \n",
    "# of numerical operations that can be applied on the entire dataset without the need for explicit loops.\n",
    "data = np.array(data)\n",
    "\n",
    "# Retrieve the dimensions of the data array, where 'm' is the number of examples\n",
    "# and 'n' is the number of features (784 pixel values + 1 label column = 785 columns for the MNIST dataset).\n",
    "# This is necessary to understand the dataset's structure and to later manipulate it appropriately.\n",
    "m, n = data.shape\n",
    "\n",
    "# Shuffle the data in-place along the first axis which is along the rows (examples).\n",
    "# Shuffling is important before splitting the data into training and development (dev) sets\n",
    "# to ensure the data is randomly distributed, which helps in training a well-generalized model.\n",
    "np.random.shuffle(data)\n",
    "\n",
    "# Split the shuffled data into a development (dev) set. Here, the first 1000 examples are sliced out.\n",
    "# The 'T' transposes the sliced data making the columns represent the individual examples, and the rows represent the features.\n",
    "# Transposing is done to align with the convention where each column is an example and each row is a feature.\n",
    "data_dev = data[0:1000].T\n",
    "\n",
    "# Extract the first row of the dev set which contains the labels for each example.\n",
    "# This row provides the correct digit (0-9) that corresponds to each image (example) in the dev set.\n",
    "Y_dev = data_dev[0]\n",
    "\n",
    "# Extract the remaining rows of the dev set which contain the pixel values for each image.\n",
    "# These represent the input features for the neural network, one column per image.\n",
    "X_dev = data_dev[1:n]\n",
    "\n",
    "# Normalize the pixel values of the dev set by dividing by 255.\n",
    "# Since pixel values range from 0 to 255, this step scales the features to a range of [0, 1],\n",
    "# which can help the neural network learn more efficiently.\n",
    "X_dev = X_dev / 255.\n",
    "\n",
    "# Split the remaining shuffled data into a training set using the same approach as the dev set.\n",
    "# Here, all examples after the first 1000 are used for training.\n",
    "# The 'T' transposes the data so that, again, columns are examples and rows are features.\n",
    "data_train = data[1000:m].T\n",
    "\n",
    "# Extract the first row of the training set, containing the labels for each training example.\n",
    "Y_train = data_train[0]\n",
    "\n",
    "# Extract the remaining rows of the training set, containing the pixel values for each training image.\n",
    "X_train = data_train[1:n]\n",
    "\n",
    "# Normalize the pixel values of the training set by dividing by 255 to scale to [0, 1].\n",
    "X_train = X_train / 255.\n",
    "\n",
    "# Store the number of training examples, which is now the number of columns after the transpose.\n",
    "# This variable is not used immediately but is often useful to have for computations in neural networks.\n",
    "_, m_train = X_train.shape\n"
   ]
  },
  {
   "cell_type": "code",
   "execution_count": 3,
   "id": "64341119",
   "metadata": {},
   "outputs": [
    {
     "data": {
      "text/plain": [
       "array([7, 3, 6, ..., 5, 7, 5], dtype=int64)"
      ]
     },
     "execution_count": 3,
     "metadata": {},
     "output_type": "execute_result"
    }
   ],
   "source": [
    "# The variable 'Y_train' now holds the labels for the training data extracted from the data array.\n",
    "# This line itself is not an operation; it's simply the variable 'Y_train' which was assigned earlier.\n",
    "# When you run this line in a Python environment (such as Jupyter Notebook), it will output the values stored in 'Y_train'.\n",
    "# This is typically used for quickly inspecting the variable or for debugging purposes.\n",
    "\n",
    "# 'Y_train' contains the true classifications for each of the training images. \n",
    "# For the MNIST dataset, these will be integers from 0 to 9, corresponding to the digit represented by each 28x28 pixel image.\n",
    "# This array is one-dimensional, with a length equal to the number of training examples (m - 1000, where m is the total number of images in 'data').\n",
    "Y_train\n"
   ]
  },
  {
   "cell_type": "code",
   "execution_count": 4,
   "id": "4724a9ad",
   "metadata": {},
   "outputs": [],
   "source": [
    "# Define a function to initialize the parameters of the neural network.\n",
    "# This function doesn't take any inputs and returns initialized weights and biases for each layer of the network.\n",
    "def init_params():\n",
    "    # Initialize weights for the first hidden layer.\n",
    "    # 'W1' is a matrix of shape (32, 784) filled with random values between -0.5 and 0.5.\n",
    "    # These weights connect the input layer (784 nodes, for the flattened 28x28 pixel MNIST images) to the first hidden layer (32 nodes).\n",
    "    W1 = np.random.rand(64, 784) - 0.5   # First hidden layer with 32 nodes\n",
    "    \n",
    "    # Initialize biases for the first hidden layer.\n",
    "    # 'b1' is a column vector (32, 1) filled with random values between -0.5 and 0.5.\n",
    "    # Each bias term is added to the weighted sum of inputs to a neuron, affecting the neuron's activation.\n",
    "    b1 = np.random.rand(64, 1) - 0.5\n",
    "\n",
    "    # Initialize weights for the second hidden layer.\n",
    "    # 'W2' connects the first hidden layer (32 nodes) to the second hidden layer (64 nodes) with a shape of (64, 32).\n",
    "    W2 = np.random.rand(32, 64) - 0.5    # Second hidden layer with 64 nodes\n",
    "\n",
    "    # Initialize biases for the second hidden layer.\n",
    "    b2 = np.random.rand(32, 1) - 0.5\n",
    "\n",
    "    # Initialize weights for the output layer.\n",
    "    # 'W3' connects the second hidden layer (64 nodes) to the output layer (10 nodes, one for each digit 0-9) with a shape of (10, 64).\n",
    "    W3 = np.random.rand(10, 32) - 0.5    # Output layer with 10 nodes\n",
    "\n",
    "    # Initialize biases for the output layer.\n",
    "    b3 = np.random.rand(10, 1) - 0.5\n",
    "\n",
    "    # Return the initialized weights and biases.\n",
    "    # The function returns six items: W1, b1, W2, b2, W3, b3, which are used by the neural network for forward and backward propagation.\n",
    "    return W1, b1, W2, b2, W3, b3\n",
    "\n",
    "# Define the ReLU (Rectified Linear Unit) activation function.\n",
    "# This function takes a single input 'Z', which can be a number, a vector, or a matrix.\n",
    "def ReLU(Z):\n",
    "    # The ReLU function returns the input 'Z' where it is positive and zero where 'Z' is negative.\n",
    "    # It is applied element-wise if 'Z' is a vector or a matrix. This operation introduces non-linearity into the model.\n",
    "    return np.maximum(Z, 0)\n",
    "\n",
    "# Define the softmax function, often used in the output layer of a multi-class classification neural network.\n",
    "# This function takes a single input 'Z', which represents the raw output scores (logits) from the output layer of the neural network.\n",
    "def softmax(Z):\n",
    "    # Compute the exponential of each element in the input 'Z' and normalize these values by dividing by the sum of all the exponentials.\n",
    "    # This ensures that the output values of the softmax function are in the range (0, 1) and sum up to 1, making them interpretable as probabilities.\n",
    "    A = np.exp(Z) / sum(np.exp(Z))\n",
    "    # Return the softmax activations. Each element of 'A' represents the probability that the input belongs to a particular class.\n",
    "    return A\n",
    "\n",
    "\n",
    "# Define the forward propagation function to compute the neural network's predictions.\n",
    "def forward_prop(W1, b1, W2, b2, W3, b3, X):\n",
    "    # Compute the linear part of the first layer's activation. Z1 is the matrix of weighted inputs plus biases for the first layer.\n",
    "    Z1 = W1.dot(X) + b1\n",
    "    # Apply the ReLU function element-wise to Z1 to get the first layer's activations (A1). This introduces non-linearity.\n",
    "    A1 = ReLU(Z1)\n",
    "    # Repeat the process for the second layer: compute Z2 as the dot product of W2 and A1 plus the bias b2, then apply ReLU.\n",
    "    Z2 = W2.dot(A1) + b2\n",
    "    A2 = ReLU(Z2)\n",
    "    # For the output layer, compute Z3 similarly, then apply the softmax function to obtain A3, which represents the probability distribution over classes.\n",
    "    Z3 = W3.dot(A2) + b3\n",
    "    A3 = softmax(Z3)\n",
    "    # Return all intermediate and final outputs for use in backpropagation.\n",
    "    return Z1, A1, Z2, A2, Z3, A3\n",
    "\n",
    "# Define the derivative of the ReLU function, which is used in backpropagation to compute gradients.\n",
    "def ReLU_deriv(Z):\n",
    "    # For ReLU's derivative, return True (or 1) where Z is greater than 0, else False (or 0). This is performed element-wise.\n",
    "    return Z > 0\n",
    "\n",
    "# Define a function to convert labels Y into one-hot encoded format.\n",
    "def one_hot(Y):\n",
    "    # Create a matrix of zeros with a shape of (number of classes, number of examples), then set the appropriate elements to 1.\n",
    "    one_hot_Y = np.zeros((Y.size, int(Y.max()) + 1))\n",
    "    # For each label in Y, set the corresponding element in one_hot_Y to 1. Transpose to align with the output format.\n",
    "    one_hot_Y[np.arange(Y.size), Y] = 1\n",
    "    one_hot_Y = one_hot_Y.T\n",
    "    # Return the one-hot encoded labels.\n",
    "    return one_hot_Y\n",
    "\n",
    "# Define the backward propagation function to compute gradients for learning.\n",
    "def backward_prop(Z1, A1, Z2, A2, Z3, A3, W2, W3, X, Y):\n",
    "    # Convert labels Y into one-hot encoded format for gradient computation.\n",
    "    one_hot_Y = one_hot(Y)\n",
    "    # Compute the derivative of the loss with respect to Z3, then compute gradients for W3 and b3.\n",
    "    dZ3 = A3 - one_hot_Y\n",
    "    dW3 = 1 / m * dZ3.dot(A2.T)\n",
    "    db3 = 1 / m * np.sum(dZ3, axis=1, keepdims=True)\n",
    "    # Use the transposed W3 to propagate the gradient back to the second layer, compute the gradient for Z2, then for W2 and b2.\n",
    "    dZ2 = W3.T.dot(dZ3) * ReLU_deriv(Z2)\n",
    "    dW2 = 1 / m * dZ2.dot(A1.T)\n",
    "    db2 = 1 / m * np.sum(dZ2, axis=1, keepdims=True)\n",
    "    # Repeat the gradient propagation back to the first layer and compute gradients for W1 and b1.\n",
    "    dZ1 = W2.T.dot(dZ2) * ReLU_deriv(Z1)\n",
    "    dW1 = 1 / m * dZ1.dot(X.T)\n",
    "    db1 = 1 / m * np.sum(dZ1, axis=1, keepdims=True)\n",
    "    # Return the gradients for update.\n",
    "    return dW1, db1, dW2, db2, dW3, db3\n",
    "\n",
    "# Define a function to update the parameters of the network using the computed gradients.\n",
    "def update_params(W1, b1, W2, b2, W3, b3, dW1, db1, dW2, db2, dW3, db3, alpha):\n",
    "    # Update each weight and bias term by subtracting a fraction of the gradient, where the fraction is determined by the learning rate (alpha).\n",
    "    W1 -= alpha * dW1\n",
    "    b1 -= alpha * db1\n",
    "    W2 -= alpha * dW2\n",
    "    b2 -= alpha * db2\n",
    "    W3 -= alpha * dW3\n",
    "    b3 -= alpha * db3\n",
    "    # Return the updated parameters.\n",
    "    return W1, b1, W2, b2, W3, b3\n"
   ]
  },
  {
   "cell_type": "code",
   "execution_count": 5,
   "id": "3cf6c3cf",
   "metadata": {},
   "outputs": [],
   "source": [
    "# Define a function to get predictions from the last layer's activations.\n",
    "def get_predictions(A3):\n",
    "    # Use np.argmax to find the index of the maximum value in each column of A3.\n",
    "    # This index corresponds to the predicted class (digit) for each example.\n",
    "    # The '0' argument to argmax specifies that we want to find the maximum along the first axis (rows),\n",
    "    # which effectively gives us one prediction per example (column).\n",
    "    return np.argmax(A3, 0)\n",
    "\n",
    "# Define a function to calculate the accuracy of predictions against the true labels.\n",
    "def get_accuracy(predictions, Y):\n",
    "    # Compare the predictions array to the true labels Y element-wise, resulting in a boolean array.\n",
    "    # np.sum counts the number of True values (correct predictions). Dividing by Y.size (total number of examples)\n",
    "    # gives the fraction of correct predictions, i.e., the accuracy.\n",
    "    return np.sum(predictions == Y) / Y.size\n",
    "\n",
    "# Define the gradient descent function to optimize the neural network's parameters.\n",
    "def gradient_descent(X, Y, alpha, iterations):\n",
    "    # Initialize the weights and biases of the network. This setup creates the starting point\n",
    "    # for the optimization process, with random weights and biases for each layer.\n",
    "    W1, b1, W2, b2, W3, b3 = init_params()\n",
    "    \n",
    "    # Iterate over the specified number of iterations to perform the gradient descent optimization.\n",
    "    for i in range(iterations):\n",
    "        # Perform forward propagation with the current parameters to calculate the network's predictions.\n",
    "        # This step involves computing the weighted inputs and activations for each layer, ending with the output layer.\n",
    "        Z1, A1, Z2, A2, Z3, A3 = forward_prop(W1, b1, W2, b2, W3, b3, X)\n",
    "        \n",
    "        # Perform backward propagation to calculate the gradients of the cost function with respect to\n",
    "        # the parameters (weights and biases). This step uses the output from forward propagation to determine\n",
    "        # how the parameters should be adjusted to reduce the cost.\n",
    "        dW1, db1, dW2, db2, dW3, db3 = backward_prop(Z1, A1, Z2, A2, Z3, A3, W2, W3, X, Y)\n",
    "        \n",
    "        # Update the parameters using the gradients calculated in the backward propagation step.\n",
    "        # The learning rate (alpha) controls how much the parameters are adjusted during each update.\n",
    "        W1, b1, W2, b2, W3, b3 = update_params(W1, b1, W2, b2, W3, b3, dW1, db1, dW2, db2, dW3, db3, alpha)\n",
    "        \n",
    "        # Every 10 iterations, print the current iteration number and the accuracy of the model on the training data.\n",
    "        # This provides insight into how the model is improving over time.\n",
    "        if i % 10 == 0:\n",
    "            predictions = get_predictions(A3)\n",
    "            print(\"Iteration: \", i)\n",
    "            print(\"Accuracy: \", get_accuracy(predictions, Y))\n",
    "    \n",
    "    # After completing all iterations, return the optimized parameters.\n",
    "    # These parameters can then be used for making predictions on new data.\n",
    "    return W1, b1, W2, b2, W3, b3\n"
   ]
  },
  {
   "cell_type": "code",
   "execution_count": 6,
   "id": "3edc03c5",
   "metadata": {},
   "outputs": [
    {
     "name": "stdout",
     "output_type": "stream",
     "text": [
      "Iteration:  0\n",
      "Accuracy:  0.14773170731707316\n",
      "Iteration:  10\n",
      "Accuracy:  0.4319512195121951\n",
      "Iteration:  20\n",
      "Accuracy:  0.566780487804878\n",
      "Iteration:  30\n",
      "Accuracy:  0.6419268292682927\n",
      "Iteration:  40\n",
      "Accuracy:  0.6906341463414634\n",
      "Iteration:  50\n",
      "Accuracy:  0.7224878048780488\n",
      "Iteration:  60\n",
      "Accuracy:  0.7455121951219512\n",
      "Iteration:  70\n",
      "Accuracy:  0.7639512195121951\n",
      "Iteration:  80\n",
      "Accuracy:  0.779390243902439\n",
      "Iteration:  90\n",
      "Accuracy:  0.7914390243902439\n",
      "Iteration:  100\n",
      "Accuracy:  0.8023902439024391\n",
      "Iteration:  110\n",
      "Accuracy:  0.8111463414634147\n",
      "Iteration:  120\n",
      "Accuracy:  0.8188048780487804\n",
      "Iteration:  130\n",
      "Accuracy:  0.8254634146341463\n",
      "Iteration:  140\n",
      "Accuracy:  0.8311463414634146\n",
      "Iteration:  150\n",
      "Accuracy:  0.8361463414634146\n",
      "Iteration:  160\n",
      "Accuracy:  0.8411951219512195\n",
      "Iteration:  170\n",
      "Accuracy:  0.8455853658536585\n",
      "Iteration:  180\n",
      "Accuracy:  0.8495121951219512\n",
      "Iteration:  190\n",
      "Accuracy:  0.8528536585365853\n",
      "Iteration:  200\n",
      "Accuracy:  0.8568048780487805\n",
      "Iteration:  210\n",
      "Accuracy:  0.8598536585365854\n",
      "Iteration:  220\n",
      "Accuracy:  0.8619024390243902\n",
      "Iteration:  230\n",
      "Accuracy:  0.8643170731707317\n",
      "Iteration:  240\n",
      "Accuracy:  0.8668536585365854\n",
      "Iteration:  250\n",
      "Accuracy:  0.869219512195122\n",
      "Iteration:  260\n",
      "Accuracy:  0.8711707317073171\n",
      "Iteration:  270\n",
      "Accuracy:  0.8734878048780488\n",
      "Iteration:  280\n",
      "Accuracy:  0.8749268292682927\n",
      "Iteration:  290\n",
      "Accuracy:  0.8770487804878049\n",
      "Iteration:  300\n",
      "Accuracy:  0.8784146341463415\n",
      "Iteration:  310\n",
      "Accuracy:  0.8800731707317073\n",
      "Iteration:  320\n",
      "Accuracy:  0.8819024390243903\n",
      "Iteration:  330\n",
      "Accuracy:  0.8840243902439024\n",
      "Iteration:  340\n",
      "Accuracy:  0.8854390243902439\n",
      "Iteration:  350\n",
      "Accuracy:  0.8865365853658537\n",
      "Iteration:  360\n",
      "Accuracy:  0.8877560975609756\n",
      "Iteration:  370\n",
      "Accuracy:  0.8889756097560976\n",
      "Iteration:  380\n",
      "Accuracy:  0.8899268292682927\n",
      "Iteration:  390\n",
      "Accuracy:  0.891\n",
      "Iteration:  400\n",
      "Accuracy:  0.8923414634146342\n",
      "Iteration:  410\n",
      "Accuracy:  0.8931707317073171\n",
      "Iteration:  420\n",
      "Accuracy:  0.8939756097560976\n",
      "Iteration:  430\n",
      "Accuracy:  0.8949756097560976\n",
      "Iteration:  440\n",
      "Accuracy:  0.8957317073170732\n",
      "Iteration:  450\n",
      "Accuracy:  0.8968536585365854\n",
      "Iteration:  460\n",
      "Accuracy:  0.897829268292683\n",
      "Iteration:  470\n",
      "Accuracy:  0.8987073170731708\n",
      "Iteration:  480\n",
      "Accuracy:  0.8995121951219512\n",
      "Iteration:  490\n",
      "Accuracy:  0.9003658536585366\n"
     ]
    }
   ],
   "source": [
    "# Start the training process of the neural network with specified parameters.\n",
    "W1, b1, W2, b2, W3, b3 = gradient_descent(X_train, Y_train, 0.10, 500)\n"
   ]
  },
  {
   "cell_type": "code",
   "execution_count": 7,
   "id": "3e1eb947",
   "metadata": {},
   "outputs": [],
   "source": [
    "# Define a function to make predictions using the trained neural network parameters for any input data X.\n",
    "def make_predictions(X, W1, b1, W2, b2, W3, b3):\n",
    "    # Perform forward propagation with the current parameters (weights and biases) and the input data X.\n",
    "    # This will compute the network's output activations for each layer, but here we're only interested in the final output (A3).\n",
    "    _, _, _, _, _, A3 = forward_prop(W1, b1, W2, b2, W3, b3, X)\n",
    "    \n",
    "    # Use the get_predictions function to interpret the final layer's activations (A3) as class predictions.\n",
    "    # This step converts the output probabilities into a single prediction per example based on the highest probability.\n",
    "    predictions = get_predictions(A3)\n",
    "    \n",
    "    # Return the predictions array, which contains the predicted class (digit) for each input example in X.\n",
    "    return predictions\n",
    "\n",
    "# Define a function to test the prediction of the neural network on a single example from the training set.\n",
    "def test_prediction(index, W1, b1, W2, b2, W3, b3):\n",
    "    # Extract the specific example from the training set using the provided index. \n",
    "    # 'None' is used to maintain the example's shape as a 2D array suitable for matrix operations.\n",
    "    current_image = X_train[:, index, None]\n",
    "    \n",
    "    # Use the make_predictions function to get the neural network's prediction for the extracted example.\n",
    "    prediction = make_predictions(current_image, W1, b1, W2, b2, W3, b3)\n",
    "    \n",
    "    # Retrieve the actual label for the current example from the training labels.\n",
    "    label = Y_train[index]\n",
    "    \n",
    "    # Print the neural network's prediction and the true label to compare.\n",
    "    print(\"Prediction: \", prediction)\n",
    "    print(\"Label: \", label)\n",
    "    \n",
    "    # Reshape the current image's pixel values (which were normalized) back to a 28x28 array for visualization,\n",
    "    # and multiply by 255 to revert the normalization so the image can be displayed correctly.\n",
    "    current_image = current_image.reshape((28, 28)) * 255\n",
    "    \n",
    "    # Set the colormap to grayscale since MNIST images are grayscale.\n",
    "    plt.gray()\n",
    "    \n",
    "    # Display the image using matplotlib's imshow function, with 'nearest' interpolation for clarity.\n",
    "    plt.imshow(current_image, interpolation='nearest')\n",
    "    \n",
    "    # Show the plot. This displays the image of the digit along with the prediction and actual label printed above.\n",
    "    plt.show()\n"
   ]
  },
  {
   "cell_type": "code",
   "execution_count": 8,
   "id": "cc005e46",
   "metadata": {},
   "outputs": [
    {
     "name": "stdout",
     "output_type": "stream",
     "text": [
      "Prediction:  [7]\n",
      "Label:  7\n"
     ]
    },
    {
     "data": {
      "image/png": "[encoded data removed]",
      "text/plain": [
       "<Figure size 640x480 with 1 Axes>"
      ]
     },
     "metadata": {},
     "output_type": "display_data"
    },
    {
     "name": "stdout",
     "output_type": "stream",
     "text": [
      "Prediction:  [3]\n",
      "Label:  3\n"
     ]
    },
    {
     "data": {
      "image/png": "[encoded data removed]",
      "text/plain": [
       "<Figure size 640x480 with 1 Axes>"
      ]
     },
     "metadata": {},
     "output_type": "display_data"
    },
    {
     "name": "stdout",
     "output_type": "stream",
     "text": [
      "Prediction:  [6]\n",
      "Label:  6\n"
     ]
    },
    {
     "data": {
      "image/png": "[encoded data removed]",
      "text/plain": [
       "<Figure size 640x480 with 1 Axes>"
      ]
     },
     "metadata": {},
     "output_type": "display_data"
    },
    {
     "name": "stdout",
     "output_type": "stream",
     "text": [
      "Prediction:  [9]\n",
      "Label:  9\n"
     ]
    },
    {
     "data": {
      "image/png": "[encoded data removed]",
      "text/plain": [
       "<Figure size 640x480 with 1 Axes>"
      ]
     },
     "metadata": {},
     "output_type": "display_data"
    },
    {
     "name": "stdout",
     "output_type": "stream",
     "text": [
      "Prediction:  [3]\n",
      "Label:  3\n"
     ]
    },
    {
     "data": {
      "image/png": "[encoded data removed]",
      "text/plain": [
       "<Figure size 640x480 with 1 Axes>"
      ]
     },
     "metadata": {},
     "output_type": "display_data"
    },
    {
     "name": "stdout",
     "output_type": "stream",
     "text": [
      "Prediction:  [0]\n",
      "Label:  6\n"
     ]
    },
    {
     "data": {
      "image/png": "[encoded data removed]",
      "text/plain": [
       "<Figure size 640x480 with 1 Axes>"
      ]
     },
     "metadata": {},
     "output_type": "display_data"
    },
    {
     "name": "stdout",
     "output_type": "stream",
     "text": [
      "Prediction:  [4]\n",
      "Label:  4\n"
     ]
    },
    {
     "data": {
      "image/png": "[encoded data removed]",
      "text/plain": [
       "<Figure size 640x480 with 1 Axes>"
      ]
     },
     "metadata": {},
     "output_type": "display_data"
    },
    {
     "name": "stdout",
     "output_type": "stream",
     "text": [
      "Prediction:  [5]\n",
      "Label:  5\n"
     ]
    },
    {
     "data": {
      "image/png": "[encoded data removed]",
      "text/plain": [
       "<Figure size 640x480 with 1 Axes>"
      ]
     },
     "metadata": {},
     "output_type": "display_data"
    },
    {
     "name": "stdout",
     "output_type": "stream",
     "text": [
      "Prediction:  [4]\n",
      "Label:  4\n"
     ]
    },
    {
     "data": {
      "image/png": "[encoded data removed]",
      "text/plain": [
       "<Figure size 640x480 with 1 Axes>"
      ]
     },
     "metadata": {},
     "output_type": "display_data"
    }
   ],
   "source": [
    "# Loop over the first nine examples in the training dataset.\n",
    "for i in range(9):\n",
    "    # Call the test_prediction function for each example.\n",
    "    # This function takes the index of the example (i), and the trained weights and biases of the neural network.\n",
    "    # It performs a forward pass using the specific example, computes the neural network's prediction, and prints it.\n",
    "    # It also prints the actual label (the true digit) for the example to compare against the prediction.\n",
    "    # Finally, it visualizes the example as an image, showing what the digit looks like.\n",
    "    # This provides a comprehensive view of the model's predictions vs. the actual labels on individual examples,\n",
    "    # allowing for a quick visual assessment of the model's performance on these specific cases.\n",
    "    test_prediction(i, W1, b1, W2, b2, W3, b3)\n"
   ]
  },
  {
   "cell_type": "code",
   "execution_count": 9,
   "id": "a5700d5d",
   "metadata": {},
   "outputs": [
    {
     "name": "stdout",
     "output_type": "stream",
     "text": [
      "Development Set Accuracy:  0.905\n"
     ]
    }
   ],
   "source": [
    "# Use the make_predictions function to predict the digits for all images in the development set (X_dev).\n",
    "# The function takes the development set images (X_dev) along with the optimized weights and biases of the neural network\n",
    "# and computes the predicted class for each image based on the learned features during training.\n",
    "dev_predictions = make_predictions(X_dev, W1, b1, W2, b2, W3, b3)\n",
    "\n",
    "# Calculate the accuracy of these predictions by comparing them to the true labels (Y_dev) of the development set.\n",
    "# The get_accuracy function compares the predicted classes to the actual classes, returning the proportion of examples\n",
    "# for which the predicted class matches the true class. This provides a measure of how well the model is performing,\n",
    "# specifically on data it hasn't seen during training, which is important for evaluating model generalization.\n",
    "print(\"Development Set Accuracy: \", get_accuracy(dev_predictions, Y_dev))\n"
   ]
  },
  {
   "cell_type": "code",
   "execution_count": null,
   "id": "2d942bc2",
   "metadata": {},
   "outputs": [],
   "source": []
  }
 ],
 "metadata": {
  "kernelspec": {
   "display_name": "Python 3 (ipykernel)",
   "language": "python",
   "name": "python3"
  },
  "language_info": {
   "codemirror_mode": {
    "name": "ipython",
    "version": 3
   },
   "file_extension": ".py",
   "mimetype": "text/x-python",
   "name": "python",
   "nbconvert_exporter": "python",
   "pygments_lexer": "ipython3",
   "version": "3.11.5"
  }
 },
 "nbformat": 4,
 "nbformat_minor": 5
}
